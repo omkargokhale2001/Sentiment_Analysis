{
 "cells": [
  {
   "cell_type": "markdown",
   "id": "f294d5c3",
   "metadata": {},
   "source": [
    "# Sentiment Analysis of Twitter Data \n",
    "\n",
    "In this project we intend to tackle some important applications of sentiment anlysis that is to detect hate speech such as racism and sexism and also detecting signs of depression from tweets made by users on twitter.\n",
    "\n",
    "We will be training various models on this data and compare the accuracy, precision, recall and f1 scores of these models.\n",
    "\n",
    "Finally we will determine the best alfgorithm for this analysis along with the combination of parameters that gave us this result.\n",
    "\n",
    "We will be using the following models on the twitter data:\n",
    "1. Logisitic Regression\n",
    "2. SVM\n",
    "3. Linear SVC\n",
    "4. Naive Bayes Classifier\n",
    "5. XG Boost\n",
    "6. KNN\n",
    "7. Ada Boost\n",
    "8. MLP Classifier\n",
    "\n",
    "The data used in this project is a mixture of various data sets found on kaggle"
   ]
  },
  {
   "cell_type": "markdown",
   "id": "c14af3ed",
   "metadata": {},
   "source": [
    "# Importing Data"
   ]
  },
  {
   "cell_type": "code",
   "execution_count": 75,
   "id": "7e830344",
   "metadata": {},
   "outputs": [],
   "source": [
    "import pandas as pd\n",
    "import matplotlib.pyplot as plt\n",
    "import numpy as np"
   ]
  },
  {
   "cell_type": "code",
   "execution_count": 78,
   "id": "fef3a063",
   "metadata": {},
   "outputs": [
    {
     "data": {
      "text/html": [
       "<div>\n",
       "<style scoped>\n",
       "    .dataframe tbody tr th:only-of-type {\n",
       "        vertical-align: middle;\n",
       "    }\n",
       "\n",
       "    .dataframe tbody tr th {\n",
       "        vertical-align: top;\n",
       "    }\n",
       "\n",
       "    .dataframe thead th {\n",
       "        text-align: right;\n",
       "    }\n",
       "</style>\n",
       "<table border=\"1\" class=\"dataframe\">\n",
       "  <thead>\n",
       "    <tr style=\"text-align: right;\">\n",
       "      <th></th>\n",
       "      <th>tweet</th>\n",
       "      <th>label</th>\n",
       "    </tr>\n",
       "  </thead>\n",
       "  <tbody>\n",
       "    <tr>\n",
       "      <th>0</th>\n",
       "      <td>@user when a father is dysfunctional and is s...</td>\n",
       "      <td>0</td>\n",
       "    </tr>\n",
       "    <tr>\n",
       "      <th>1</th>\n",
       "      <td>@user @user thanks for #lyft credit i can't us...</td>\n",
       "      <td>0</td>\n",
       "    </tr>\n",
       "    <tr>\n",
       "      <th>2</th>\n",
       "      <td>bihday your majesty</td>\n",
       "      <td>0</td>\n",
       "    </tr>\n",
       "    <tr>\n",
       "      <th>3</th>\n",
       "      <td>#model   i love u take with u all the time in ...</td>\n",
       "      <td>0</td>\n",
       "    </tr>\n",
       "    <tr>\n",
       "      <th>4</th>\n",
       "      <td>factsguide: society now    #motivation</td>\n",
       "      <td>0</td>\n",
       "    </tr>\n",
       "    <tr>\n",
       "      <th>...</th>\n",
       "      <td>...</td>\n",
       "      <td>...</td>\n",
       "    </tr>\n",
       "    <tr>\n",
       "      <th>31957</th>\n",
       "      <td>ate @user isz that youuu?ðððððð...</td>\n",
       "      <td>0</td>\n",
       "    </tr>\n",
       "    <tr>\n",
       "      <th>31958</th>\n",
       "      <td>to see nina turner on the airwaves trying to...</td>\n",
       "      <td>0</td>\n",
       "    </tr>\n",
       "    <tr>\n",
       "      <th>31959</th>\n",
       "      <td>listening to sad songs on a monday morning otw...</td>\n",
       "      <td>0</td>\n",
       "    </tr>\n",
       "    <tr>\n",
       "      <th>31960</th>\n",
       "      <td>@user #sikh #temple vandalised in in #calgary,...</td>\n",
       "      <td>1</td>\n",
       "    </tr>\n",
       "    <tr>\n",
       "      <th>31961</th>\n",
       "      <td>thank you @user for you follow</td>\n",
       "      <td>0</td>\n",
       "    </tr>\n",
       "  </tbody>\n",
       "</table>\n",
       "<p>31962 rows × 2 columns</p>\n",
       "</div>"
      ],
      "text/plain": [
       "                                                   tweet  label\n",
       "0       @user when a father is dysfunctional and is s...      0\n",
       "1      @user @user thanks for #lyft credit i can't us...      0\n",
       "2                                    bihday your majesty      0\n",
       "3      #model   i love u take with u all the time in ...      0\n",
       "4                 factsguide: society now    #motivation      0\n",
       "...                                                  ...    ...\n",
       "31957  ate @user isz that youuu?ðððððð...      0\n",
       "31958    to see nina turner on the airwaves trying to...      0\n",
       "31959  listening to sad songs on a monday morning otw...      0\n",
       "31960  @user #sikh #temple vandalised in in #calgary,...      1\n",
       "31961                   thank you @user for you follow        0\n",
       "\n",
       "[31962 rows x 2 columns]"
      ]
     },
     "execution_count": 78,
     "metadata": {},
     "output_type": "execute_result"
    }
   ],
   "source": [
    "df = pd.read_csv('train_tweet.csv')\n",
    "df = df.drop(['id'],axis=1)\n",
    "df = df[['tweet','label']]\n",
    "df"
   ]
  },
  {
   "cell_type": "markdown",
   "id": "d9d58b90",
   "metadata": {},
   "source": [
    "## Preprocessing\n",
    "\n",
    "Reference: The effect of preprocessing techniques on Twitter sentiment analysis\n",
    "\n",
    "Process:\n",
    "1. Removing unwanted emoticons, urls, hashtags, usernames and stop words.\n",
    "2. Stemming\n",
    "3. Lemmatization\n",
    "4. Applying Tf-idf Vectorizer or Count Vectorizer"
   ]
  },
  {
   "cell_type": "markdown",
   "id": "2d94e80c",
   "metadata": {},
   "source": [
    "### 1. Lower Casing"
   ]
  },
  {
   "cell_type": "code",
   "execution_count": 79,
   "id": "0ca2f156",
   "metadata": {},
   "outputs": [],
   "source": [
    "df['tweet'] = df['tweet'].str.lower()"
   ]
  },
  {
   "cell_type": "markdown",
   "id": "85409e16",
   "metadata": {},
   "source": [
    "### 2. Removing Stop Words"
   ]
  },
  {
   "cell_type": "code",
   "execution_count": 80,
   "id": "f3345691",
   "metadata": {},
   "outputs": [],
   "source": [
    "from nltk.corpus import stopwords\n",
    "from nltk.tokenize import word_tokenize\n",
    "\n",
    "stop_words = set(stopwords.words('english'))\n",
    "\n",
    "def remove_stop(tweet,stop_words):\n",
    "    new_sent = \"\"\n",
    "    words = word_tokenize(tweet)\n",
    "    for i in words:\n",
    "        if i not in stop_words:\n",
    "            new_sent = new_sent + i\n",
    "            new_sent = new_sent + \" \"\n",
    "    return new_sent\n"
   ]
  },
  {
   "cell_type": "markdown",
   "id": "e9a25c3d",
   "metadata": {},
   "source": [
    "### 3. Removing Hashtags, URLs and Usernames"
   ]
  },
  {
   "cell_type": "code",
   "execution_count": 81,
   "id": "01f54279",
   "metadata": {},
   "outputs": [],
   "source": [
    "import re\n",
    "def clean_tweet(text):\n",
    "    text1 = re.sub(r'@[A-Za-z0-9]+','',text)\n",
    "    text2 = re.sub(r'#','',text1)\n",
    "    hashtags = re.findall(r'#[A-Za-z0-9]+',text)\n",
    "    hashtags = [i[1:] for i in hashtags]\n",
    "    text3 = re.sub(r'RT[\\s]+','',text2)\n",
    "    text4 = re.sub(r'https?:\\/\\/\\S+','',text3)\n",
    "    return text4,hashtags\n"
   ]
  },
  {
   "cell_type": "code",
   "execution_count": 82,
   "id": "1f210f82",
   "metadata": {},
   "outputs": [],
   "source": [
    "#!pip install tweet-preprocessor"
   ]
  },
  {
   "cell_type": "markdown",
   "id": "c64c0734",
   "metadata": {},
   "source": [
    "### 4. Removing Emoticons and Symbols"
   ]
  },
  {
   "cell_type": "code",
   "execution_count": 84,
   "id": "89e10df5",
   "metadata": {},
   "outputs": [],
   "source": [
    "import preprocessor as p\n",
    "def remove_emoticons(tweet):\n",
    "    tweet = p.clean(tweet)\n",
    "    return tweet\n",
    "\n"
   ]
  },
  {
   "cell_type": "markdown",
   "id": "e2588cdc",
   "metadata": {},
   "source": [
    "### 5. Applying all to DataFrame"
   ]
  },
  {
   "cell_type": "code",
   "execution_count": 85,
   "id": "5a1a0948",
   "metadata": {
    "scrolled": true
   },
   "outputs": [
    {
     "data": {
      "text/html": [
       "<div>\n",
       "<style scoped>\n",
       "    .dataframe tbody tr th:only-of-type {\n",
       "        vertical-align: middle;\n",
       "    }\n",
       "\n",
       "    .dataframe tbody tr th {\n",
       "        vertical-align: top;\n",
       "    }\n",
       "\n",
       "    .dataframe thead th {\n",
       "        text-align: right;\n",
       "    }\n",
       "</style>\n",
       "<table border=\"1\" class=\"dataframe\">\n",
       "  <thead>\n",
       "    <tr style=\"text-align: right;\">\n",
       "      <th></th>\n",
       "      <th>tweet</th>\n",
       "      <th>label</th>\n",
       "      <th>modified_tweet</th>\n",
       "      <th>hashtags</th>\n",
       "    </tr>\n",
       "  </thead>\n",
       "  <tbody>\n",
       "    <tr>\n",
       "      <th>0</th>\n",
       "      <td>@user when a father is dysfunctional and is s...</td>\n",
       "      <td>0</td>\n",
       "      <td>father dysfunctional selfish drags kids dysfun...</td>\n",
       "      <td>[run]</td>\n",
       "    </tr>\n",
       "    <tr>\n",
       "      <th>1</th>\n",
       "      <td>@user @user thanks for #lyft credit i can't us...</td>\n",
       "      <td>0</td>\n",
       "      <td>thanks lyft credit ca n't use cause n't offer ...</td>\n",
       "      <td>[lyft, disapointed, getthanked]</td>\n",
       "    </tr>\n",
       "    <tr>\n",
       "      <th>2</th>\n",
       "      <td>bihday your majesty</td>\n",
       "      <td>0</td>\n",
       "      <td>bihday majesty</td>\n",
       "      <td>[]</td>\n",
       "    </tr>\n",
       "    <tr>\n",
       "      <th>3</th>\n",
       "      <td>#model   i love u take with u all the time in ...</td>\n",
       "      <td>0</td>\n",
       "      <td>model love u take u time urð± ! ! ! ðð...</td>\n",
       "      <td>[model]</td>\n",
       "    </tr>\n",
       "    <tr>\n",
       "      <th>4</th>\n",
       "      <td>factsguide: society now    #motivation</td>\n",
       "      <td>0</td>\n",
       "      <td>factsguide : society motivation</td>\n",
       "      <td>[motivation]</td>\n",
       "    </tr>\n",
       "    <tr>\n",
       "      <th>...</th>\n",
       "      <td>...</td>\n",
       "      <td>...</td>\n",
       "      <td>...</td>\n",
       "      <td>...</td>\n",
       "    </tr>\n",
       "    <tr>\n",
       "      <th>31957</th>\n",
       "      <td>ate @user isz that youuu?ðððððð...</td>\n",
       "      <td>0</td>\n",
       "      <td>ate isz youuu ? ðððððððð...</td>\n",
       "      <td>[]</td>\n",
       "    </tr>\n",
       "    <tr>\n",
       "      <th>31958</th>\n",
       "      <td>to see nina turner on the airwaves trying to...</td>\n",
       "      <td>0</td>\n",
       "      <td>see nina turner airwaves trying wrap mantle ge...</td>\n",
       "      <td>[shame, imwithher]</td>\n",
       "    </tr>\n",
       "    <tr>\n",
       "      <th>31959</th>\n",
       "      <td>listening to sad songs on a monday morning otw...</td>\n",
       "      <td>0</td>\n",
       "      <td>listening sad songs monday morning otw work sad</td>\n",
       "      <td>[]</td>\n",
       "    </tr>\n",
       "    <tr>\n",
       "      <th>31960</th>\n",
       "      <td>@user #sikh #temple vandalised in in #calgary,...</td>\n",
       "      <td>1</td>\n",
       "      <td>sikh temple vandalised calgary , wso condemns ...</td>\n",
       "      <td>[sikh, temple, calgary, wso]</td>\n",
       "    </tr>\n",
       "    <tr>\n",
       "      <th>31961</th>\n",
       "      <td>thank you @user for you follow</td>\n",
       "      <td>0</td>\n",
       "      <td>thank follow</td>\n",
       "      <td>[]</td>\n",
       "    </tr>\n",
       "  </tbody>\n",
       "</table>\n",
       "<p>31962 rows × 4 columns</p>\n",
       "</div>"
      ],
      "text/plain": [
       "                                                   tweet  label  \\\n",
       "0       @user when a father is dysfunctional and is s...      0   \n",
       "1      @user @user thanks for #lyft credit i can't us...      0   \n",
       "2                                    bihday your majesty      0   \n",
       "3      #model   i love u take with u all the time in ...      0   \n",
       "4                 factsguide: society now    #motivation      0   \n",
       "...                                                  ...    ...   \n",
       "31957  ate @user isz that youuu?ðððððð...      0   \n",
       "31958    to see nina turner on the airwaves trying to...      0   \n",
       "31959  listening to sad songs on a monday morning otw...      0   \n",
       "31960  @user #sikh #temple vandalised in in #calgary,...      1   \n",
       "31961                   thank you @user for you follow        0   \n",
       "\n",
       "                                          modified_tweet  \\\n",
       "0      father dysfunctional selfish drags kids dysfun...   \n",
       "1      thanks lyft credit ca n't use cause n't offer ...   \n",
       "2                                        bihday majesty    \n",
       "3      model love u take u time urð± ! ! ! ðð...   \n",
       "4                       factsguide : society motivation    \n",
       "...                                                  ...   \n",
       "31957  ate isz youuu ? ðððððððð...   \n",
       "31958  see nina turner airwaves trying wrap mantle ge...   \n",
       "31959   listening sad songs monday morning otw work sad    \n",
       "31960  sikh temple vandalised calgary , wso condemns ...   \n",
       "31961                                      thank follow    \n",
       "\n",
       "                              hashtags  \n",
       "0                                [run]  \n",
       "1      [lyft, disapointed, getthanked]  \n",
       "2                                   []  \n",
       "3                              [model]  \n",
       "4                         [motivation]  \n",
       "...                                ...  \n",
       "31957                               []  \n",
       "31958               [shame, imwithher]  \n",
       "31959                               []  \n",
       "31960     [sikh, temple, calgary, wso]  \n",
       "31961                               []  \n",
       "\n",
       "[31962 rows x 4 columns]"
      ]
     },
     "execution_count": 85,
     "metadata": {},
     "output_type": "execute_result"
    }
   ],
   "source": [
    "df_hashtags=[]\n",
    "for i in df['tweet']:\n",
    "    new_tweet,row = clean_tweet(i)\n",
    "    df_hashtags.append(row)\n",
    "\n",
    "df['modified_tweet'] = df['tweet'].apply(lambda x:clean_tweet(x)[0])\n",
    "\n",
    "df['hashtags'] = df_hashtags\n",
    "df['modified_tweet']= df['modified_tweet'].apply(lambda x:remove_stop(x,stop_words))\n",
    "df"
   ]
  },
  {
   "cell_type": "markdown",
   "id": "a52b43c2",
   "metadata": {},
   "source": [
    "### 6. Lemmatization"
   ]
  },
  {
   "cell_type": "code",
   "execution_count": 9,
   "id": "19eb21ac",
   "metadata": {},
   "outputs": [],
   "source": [
    "import nltk\n",
    "#nltk.download('wordnet')"
   ]
  },
  {
   "cell_type": "code",
   "execution_count": 10,
   "id": "f09fee8b",
   "metadata": {
    "scrolled": true
   },
   "outputs": [
    {
     "data": {
      "text/plain": [
       "\"@user @user thanks for #lyft credit i can't use cause they don't offer wheelchair vans in pdx.    #disapointed #getthanked\""
      ]
     },
     "execution_count": 10,
     "metadata": {},
     "output_type": "execute_result"
    }
   ],
   "source": [
    "from nltk.stem import WordNetLemmatizer\n",
    "\n",
    "lemmatizer = WordNetLemmatizer()\n",
    "def lemmatize_words(text):\n",
    "    return \" \".join([lemmatizer.lemmatize(word) for word in text.split()])\n",
    "df['modified_tweet'] = df['modified_tweet'].apply(lambda x:remove_emoticons(x))\n",
    "df['modified_tweet'] = df['modified_tweet'].apply(lambda x:lemmatize_words(x))\n"
   ]
  },
  {
   "cell_type": "code",
   "execution_count": 11,
   "id": "a7419f36",
   "metadata": {},
   "outputs": [],
   "source": [
    "text_blob = ' '.join([tweets for tweets in df['modified_tweet']])\n"
   ]
  },
  {
   "cell_type": "code",
   "execution_count": 12,
   "id": "e7908cab",
   "metadata": {},
   "outputs": [
    {
     "data": {
      "text/html": [
       "<div>\n",
       "<style scoped>\n",
       "    .dataframe tbody tr th:only-of-type {\n",
       "        vertical-align: middle;\n",
       "    }\n",
       "\n",
       "    .dataframe tbody tr th {\n",
       "        vertical-align: top;\n",
       "    }\n",
       "\n",
       "    .dataframe thead th {\n",
       "        text-align: right;\n",
       "    }\n",
       "</style>\n",
       "<table border=\"1\" class=\"dataframe\">\n",
       "  <thead>\n",
       "    <tr style=\"text-align: right;\">\n",
       "      <th></th>\n",
       "      <th>tweet</th>\n",
       "      <th>label</th>\n",
       "      <th>modified_tweet</th>\n",
       "      <th>hashtags</th>\n",
       "    </tr>\n",
       "  </thead>\n",
       "  <tbody>\n",
       "    <tr>\n",
       "      <th>0</th>\n",
       "      <td>@user when a father is dysfunctional and is s...</td>\n",
       "      <td>0</td>\n",
       "      <td>father dysfunctional selfish drag kid dysfunct...</td>\n",
       "      <td>[run]</td>\n",
       "    </tr>\n",
       "    <tr>\n",
       "      <th>1</th>\n",
       "      <td>@user @user thanks for #lyft credit i can't us...</td>\n",
       "      <td>0</td>\n",
       "      <td>thanks lyft credit ca n't use cause n't offer ...</td>\n",
       "      <td>[lyft, disapointed, getthanked]</td>\n",
       "    </tr>\n",
       "    <tr>\n",
       "      <th>2</th>\n",
       "      <td>bihday your majesty</td>\n",
       "      <td>0</td>\n",
       "      <td>bihday majesty</td>\n",
       "      <td>[]</td>\n",
       "    </tr>\n",
       "    <tr>\n",
       "      <th>3</th>\n",
       "      <td>#model   i love u take with u all the time in ...</td>\n",
       "      <td>0</td>\n",
       "      <td>model love u take u time ur ! ! !</td>\n",
       "      <td>[model]</td>\n",
       "    </tr>\n",
       "    <tr>\n",
       "      <th>4</th>\n",
       "      <td>factsguide: society now    #motivation</td>\n",
       "      <td>0</td>\n",
       "      <td>factsguide : society motivation</td>\n",
       "      <td>[motivation]</td>\n",
       "    </tr>\n",
       "    <tr>\n",
       "      <th>...</th>\n",
       "      <td>...</td>\n",
       "      <td>...</td>\n",
       "      <td>...</td>\n",
       "      <td>...</td>\n",
       "    </tr>\n",
       "    <tr>\n",
       "      <th>31957</th>\n",
       "      <td>ate @user isz that youuu?ðððððð...</td>\n",
       "      <td>0</td>\n",
       "      <td>ate isz youuu ?</td>\n",
       "      <td>[]</td>\n",
       "    </tr>\n",
       "    <tr>\n",
       "      <th>31958</th>\n",
       "      <td>to see nina turner on the airwaves trying to...</td>\n",
       "      <td>0</td>\n",
       "      <td>see nina turner airwave trying wrap mantle gen...</td>\n",
       "      <td>[shame, imwithher]</td>\n",
       "    </tr>\n",
       "    <tr>\n",
       "      <th>31959</th>\n",
       "      <td>listening to sad songs on a monday morning otw...</td>\n",
       "      <td>0</td>\n",
       "      <td>listening sad song monday morning otw work sad</td>\n",
       "      <td>[]</td>\n",
       "    </tr>\n",
       "    <tr>\n",
       "      <th>31960</th>\n",
       "      <td>@user #sikh #temple vandalised in in #calgary,...</td>\n",
       "      <td>1</td>\n",
       "      <td>sikh temple vandalised calgary , wso condemns act</td>\n",
       "      <td>[sikh, temple, calgary, wso]</td>\n",
       "    </tr>\n",
       "    <tr>\n",
       "      <th>31961</th>\n",
       "      <td>thank you @user for you follow</td>\n",
       "      <td>0</td>\n",
       "      <td>thank follow</td>\n",
       "      <td>[]</td>\n",
       "    </tr>\n",
       "  </tbody>\n",
       "</table>\n",
       "<p>31962 rows × 4 columns</p>\n",
       "</div>"
      ],
      "text/plain": [
       "                                                   tweet  label  \\\n",
       "0       @user when a father is dysfunctional and is s...      0   \n",
       "1      @user @user thanks for #lyft credit i can't us...      0   \n",
       "2                                    bihday your majesty      0   \n",
       "3      #model   i love u take with u all the time in ...      0   \n",
       "4                 factsguide: society now    #motivation      0   \n",
       "...                                                  ...    ...   \n",
       "31957  ate @user isz that youuu?ðððððð...      0   \n",
       "31958    to see nina turner on the airwaves trying to...      0   \n",
       "31959  listening to sad songs on a monday morning otw...      0   \n",
       "31960  @user #sikh #temple vandalised in in #calgary,...      1   \n",
       "31961                   thank you @user for you follow        0   \n",
       "\n",
       "                                          modified_tweet  \\\n",
       "0      father dysfunctional selfish drag kid dysfunct...   \n",
       "1      thanks lyft credit ca n't use cause n't offer ...   \n",
       "2                                         bihday majesty   \n",
       "3                      model love u take u time ur ! ! !   \n",
       "4                        factsguide : society motivation   \n",
       "...                                                  ...   \n",
       "31957                                    ate isz youuu ?   \n",
       "31958  see nina turner airwave trying wrap mantle gen...   \n",
       "31959     listening sad song monday morning otw work sad   \n",
       "31960  sikh temple vandalised calgary , wso condemns act   \n",
       "31961                                       thank follow   \n",
       "\n",
       "                              hashtags  \n",
       "0                                [run]  \n",
       "1      [lyft, disapointed, getthanked]  \n",
       "2                                   []  \n",
       "3                              [model]  \n",
       "4                         [motivation]  \n",
       "...                                ...  \n",
       "31957                               []  \n",
       "31958               [shame, imwithher]  \n",
       "31959                               []  \n",
       "31960     [sikh, temple, calgary, wso]  \n",
       "31961                               []  \n",
       "\n",
       "[31962 rows x 4 columns]"
      ]
     },
     "execution_count": 12,
     "metadata": {},
     "output_type": "execute_result"
    }
   ],
   "source": [
    "df"
   ]
  },
  {
   "cell_type": "code",
   "execution_count": 15,
   "id": "553ffedc",
   "metadata": {},
   "outputs": [],
   "source": [
    "from wordcloud import WordCloud, STOPWORDS"
   ]
  },
  {
   "cell_type": "code",
   "execution_count": 16,
   "id": "0fdc7811",
   "metadata": {},
   "outputs": [
    {
     "data": {
      "image/png": "[encoded data removed]",
      "text/plain": [
       "<Figure size 432x288 with 1 Axes>"
      ]
     },
     "metadata": {
      "needs_background": "light"
     },
     "output_type": "display_data"
    }
   ],
   "source": [
    "wordCloud = WordCloud(width=1000,height=1000,random_state=0,max_font_size=119).generate(text_blob)\n",
    "plt.imshow(wordCloud,interpolation=\"bilinear\")\n",
    "plt.axis('off')\n",
    "plt.show()"
   ]
  },
  {
   "cell_type": "code",
   "execution_count": 17,
   "id": "6c430913",
   "metadata": {},
   "outputs": [],
   "source": [
    "df_1 = df[df['label']==1]"
   ]
  },
  {
   "cell_type": "code",
   "execution_count": 18,
   "id": "fdd5df55",
   "metadata": {},
   "outputs": [],
   "source": [
    "text_blob_1 = ' '.join([tweets for tweets in df_1['modified_tweet']])"
   ]
  },
  {
   "cell_type": "code",
   "execution_count": 19,
   "id": "80004f1a",
   "metadata": {},
   "outputs": [
    {
     "data": {
      "image/png": "[encoded data removed]",
      "text/plain": [
       "<Figure size 432x288 with 1 Axes>"
      ]
     },
     "metadata": {
      "needs_background": "light"
     },
     "output_type": "display_data"
    }
   ],
   "source": [
    "wordCloud = WordCloud(width=1000,height=1000,random_state=0,max_font_size=119).generate(text_blob_1)\n",
    "plt.imshow(wordCloud,interpolation=\"bilinear\")\n",
    "plt.axis('off')\n",
    "plt.show()"
   ]
  },
  {
   "cell_type": "markdown",
   "id": "ee6579a2",
   "metadata": {},
   "source": [
    "So our data has been cleaned properly and now we can train models on this text data"
   ]
  },
  {
   "cell_type": "markdown",
   "id": "7004cf84",
   "metadata": {},
   "source": [
    "### 7. Vectorization"
   ]
  },
  {
   "cell_type": "code",
   "execution_count": 20,
   "id": "292c84ca",
   "metadata": {},
   "outputs": [],
   "source": [
    "from sklearn.model_selection import train_test_split"
   ]
  },
  {
   "cell_type": "code",
   "execution_count": 21,
   "id": "e4850619",
   "metadata": {},
   "outputs": [
    {
     "data": {
      "text/plain": [
       "0    7460\n",
       "1     531\n",
       "Name: label, dtype: int64"
      ]
     },
     "execution_count": 21,
     "metadata": {},
     "output_type": "execute_result"
    }
   ],
   "source": [
    "X_train,X_test,y_train,y_test = train_test_split(df[['modified_tweet','hashtags']],df['label'],random_state=0)\n",
    "y_test.value_counts()"
   ]
  },
  {
   "cell_type": "code",
   "execution_count": 22,
   "id": "e307f5dc",
   "metadata": {},
   "outputs": [],
   "source": [
    "from sklearn.feature_extraction.text import CountVectorizer\n",
    "from sklearn.feature_extraction.text import TfidfVectorizer"
   ]
  },
  {
   "cell_type": "code",
   "execution_count": 23,
   "id": "93501c77",
   "metadata": {},
   "outputs": [],
   "source": [
    "count_vect_train = CountVectorizer().fit(X_train['modified_tweet'])\n",
    "tfidf_vect_train = TfidfVectorizer().fit(X_train['modified_tweet'])\n",
    "X_count_train = count_vect_train.transform(X_train['modified_tweet'])\n",
    "X_tfidf_train = tfidf_vect_train.transform(X_train['modified_tweet'])\n",
    "count_vect_test = CountVectorizer().fit(X_train['modified_tweet'])\n",
    "tfidf_vect_test = TfidfVectorizer().fit(X_train['modified_tweet'])\n",
    "X_count_test = count_vect_test.transform(X_test['modified_tweet'])\n",
    "X_tfidf_test = tfidf_vect_test.transform(X_test['modified_tweet'])"
   ]
  },
  {
   "cell_type": "markdown",
   "id": "e9cb5a7b",
   "metadata": {},
   "source": [
    "## Model Training"
   ]
  },
  {
   "cell_type": "code",
   "execution_count": 24,
   "id": "47954b29",
   "metadata": {},
   "outputs": [],
   "source": [
    "def cm(y_test,y_pred):\n",
    "    mat = confusion_matrix(y_test,y_pred)\n",
    "    prec = mat[1][1]/(mat[1][1]+mat[1][0])\n",
    "    recall = mat[1][1]/(mat[1][1]+mat[0][1])\n",
    "    col1 = ['True Positive:'+str(mat[1][1]),'False Negative:'+str(mat[0][1]),'Precision:'+str(prec)]\n",
    "    col2 = ['False Positive:'+str(mat[1][0]),'True Negative:'+str(mat[0][0]),'Recall:'+str(recall)]\n",
    "    df_conf = pd.DataFrame({'0':col1,'1':col2})\n",
    "    return df_conf"
   ]
  },
  {
   "cell_type": "code",
   "execution_count": 25,
   "id": "a36e6623",
   "metadata": {},
   "outputs": [],
   "source": [
    "def find_metrics(preds1,preds2,algorithm):\n",
    "    prec=[]\n",
    "    recall = []\n",
    "    param = []\n",
    "    f1 = []\n",
    "    acc = []\n",
    "    df = cm(y_test,preds1)\n",
    "    prec.append(str(df['0'].iloc[2]))\n",
    "    recall.append(df['1'].iloc[2])\n",
    "    mat = confusion_matrix(y_test,preds1)\n",
    "    prec1 = mat[1][1]/(mat[1][1]+mat[1][0])\n",
    "    recall1 = mat[1][1]/(mat[1][1]+mat[0][1])\n",
    "    f = (2*prec1*recall1)/(prec1+recall1)\n",
    "    f1.append(str(f))  \n",
    "    \n",
    "    df = cm(y_test,preds2)\n",
    "    prec.append(str(df['0'].iloc[2]))\n",
    "    recall.append(df['1'].iloc[2])\n",
    "    mat = confusion_matrix(y_test,preds2)\n",
    "    prec1 = mat[1][1]/(mat[1][1]+mat[1][0])\n",
    "    recall1 = mat[1][1]/(mat[1][1]+mat[0][1])\n",
    "    f = (2*prec1*recall1)/(prec1+recall1)\n",
    "    f1.append(str(f))  \n",
    "    correct_preds_1 = 0\n",
    "    correct_preds_2 = 0\n",
    "    for i in range(len(preds1)):\n",
    "        if preds1[i] == list(y_test)[i]:\n",
    "            correct_preds_1+=1\n",
    "    for j in range(len(preds2)):\n",
    "        if preds2[j] == list(y_test)[j]:\n",
    "            correct_preds_2+=1\n",
    "    acc1 = correct_preds_1/len(preds1)\n",
    "    acc2 = correct_preds_2/len(preds2)\n",
    "    acc.append(acc1)\n",
    "    acc.append(acc2)\n",
    "    df2 = pd.DataFrame({'Algorithm':algorithm,'Precision':prec,'Recall':recall,'F1-score':f1,'Accuracy':acc})\n",
    "    df2.index = ['Count Vecotrizer','Tf-idf Vectorizer']\n",
    "    return df2\n",
    "    "
   ]
  },
  {
   "cell_type": "markdown",
   "id": "808285a8",
   "metadata": {},
   "source": [
    "### 1. Logistic Regression"
   ]
  },
  {
   "cell_type": "code",
   "execution_count": 26,
   "id": "496f03c1",
   "metadata": {},
   "outputs": [],
   "source": [
    "from sklearn.linear_model import LogisticRegression\n",
    "from sklearn.metrics import confusion_matrix "
   ]
  },
  {
   "cell_type": "code",
   "execution_count": 28,
   "id": "ff26feb9",
   "metadata": {},
   "outputs": [],
   "source": [
    "clf1 = LogisticRegression(C=6,max_iter=500).fit(X_count_train,y_train)\n",
    "clf2 = LogisticRegression(C=110,max_iter=500).fit(X_tfidf_train,y_train)"
   ]
  },
  {
   "cell_type": "code",
   "execution_count": 29,
   "id": "7b2c0cb2",
   "metadata": {},
   "outputs": [],
   "source": [
    "preds1 = list(clf1.predict(X_count_test))\n",
    "preds2 = list(clf2.predict(X_tfidf_test))"
   ]
  },
  {
   "cell_type": "code",
   "execution_count": 30,
   "id": "68a299e2",
   "metadata": {},
   "outputs": [
    {
     "data": {
      "text/html": [
       "<div>\n",
       "<style scoped>\n",
       "    .dataframe tbody tr th:only-of-type {\n",
       "        vertical-align: middle;\n",
       "    }\n",
       "\n",
       "    .dataframe tbody tr th {\n",
       "        vertical-align: top;\n",
       "    }\n",
       "\n",
       "    .dataframe thead th {\n",
       "        text-align: right;\n",
       "    }\n",
       "</style>\n",
       "<table border=\"1\" class=\"dataframe\">\n",
       "  <thead>\n",
       "    <tr style=\"text-align: right;\">\n",
       "      <th></th>\n",
       "      <th>Algorithm</th>\n",
       "      <th>Precision</th>\n",
       "      <th>Recall</th>\n",
       "      <th>F1-score</th>\n",
       "      <th>Accuracy</th>\n",
       "    </tr>\n",
       "  </thead>\n",
       "  <tbody>\n",
       "    <tr>\n",
       "      <th>Count Vecotrizer</th>\n",
       "      <td>Logistic Regression</td>\n",
       "      <td>Precision:0.5894538606403014</td>\n",
       "      <td>Recall:0.830238726790451</td>\n",
       "      <td>0.6894273127753304</td>\n",
       "      <td>0.96471</td>\n",
       "    </tr>\n",
       "    <tr>\n",
       "      <th>Tf-idf Vectorizer</th>\n",
       "      <td>Logistic Regression</td>\n",
       "      <td>Precision:0.6195856873822976</td>\n",
       "      <td>Recall:0.80440097799511</td>\n",
       "      <td>0.7</td>\n",
       "      <td>0.96471</td>\n",
       "    </tr>\n",
       "  </tbody>\n",
       "</table>\n",
       "</div>"
      ],
      "text/plain": [
       "                             Algorithm                     Precision  \\\n",
       "Count Vecotrizer   Logistic Regression  Precision:0.5894538606403014   \n",
       "Tf-idf Vectorizer  Logistic Regression  Precision:0.6195856873822976   \n",
       "\n",
       "                                     Recall            F1-score  Accuracy  \n",
       "Count Vecotrizer   Recall:0.830238726790451  0.6894273127753304   0.96471  \n",
       "Tf-idf Vectorizer   Recall:0.80440097799511                 0.7   0.96471  "
      ]
     },
     "execution_count": 30,
     "metadata": {},
     "output_type": "execute_result"
    }
   ],
   "source": [
    "df_logistic = find_metrics(preds1,preds2,'Logistic Regression')\n",
    "df_logistic"
   ]
  },
  {
   "cell_type": "markdown",
   "id": "ca873093",
   "metadata": {},
   "source": [
    "Both methods maximize at an f1 score of 0.7 approximately and the count vectroizer gives a better score than tfidf vectorizerfor Logistic regression"
   ]
  },
  {
   "cell_type": "markdown",
   "id": "590fe21e",
   "metadata": {},
   "source": [
    "### 2. Support Vector Machines"
   ]
  },
  {
   "cell_type": "code",
   "execution_count": 32,
   "id": "12014683",
   "metadata": {},
   "outputs": [],
   "source": [
    "from sklearn.svm import SVC"
   ]
  },
  {
   "cell_type": "code",
   "execution_count": 34,
   "id": "cd5d4917",
   "metadata": {},
   "outputs": [],
   "source": [
    "clf1 = SVC(C=10).fit(X_count_train,y_train)\n",
    "clf2 = SVC(C=10).fit(X_tfidf_train,y_train)"
   ]
  },
  {
   "cell_type": "code",
   "execution_count": 35,
   "id": "306c11fb",
   "metadata": {},
   "outputs": [],
   "source": [
    "preds1 = clf1.predict(X_count_test)\n",
    "preds2 = clf2.predict(X_tfidf_test)"
   ]
  },
  {
   "cell_type": "code",
   "execution_count": 36,
   "id": "773e5839",
   "metadata": {},
   "outputs": [
    {
     "data": {
      "text/html": [
       "<div>\n",
       "<style scoped>\n",
       "    .dataframe tbody tr th:only-of-type {\n",
       "        vertical-align: middle;\n",
       "    }\n",
       "\n",
       "    .dataframe tbody tr th {\n",
       "        vertical-align: top;\n",
       "    }\n",
       "\n",
       "    .dataframe thead th {\n",
       "        text-align: right;\n",
       "    }\n",
       "</style>\n",
       "<table border=\"1\" class=\"dataframe\">\n",
       "  <thead>\n",
       "    <tr style=\"text-align: right;\">\n",
       "      <th></th>\n",
       "      <th>Algorithm</th>\n",
       "      <th>Precision</th>\n",
       "      <th>Recall</th>\n",
       "      <th>F1-score</th>\n",
       "      <th>Accuracy</th>\n",
       "    </tr>\n",
       "  </thead>\n",
       "  <tbody>\n",
       "    <tr>\n",
       "      <th>Count Vecotrizer</th>\n",
       "      <td>SVM</td>\n",
       "      <td>Precision:0.519774011299435</td>\n",
       "      <td>Recall:0.8761904761904762</td>\n",
       "      <td>0.652482269503546</td>\n",
       "      <td>0.963209</td>\n",
       "    </tr>\n",
       "    <tr>\n",
       "      <th>Tf-idf Vectorizer</th>\n",
       "      <td>SVM</td>\n",
       "      <td>Precision:0.5310734463276836</td>\n",
       "      <td>Recall:0.9038461538461539</td>\n",
       "      <td>0.6690391459074733</td>\n",
       "      <td>0.965086</td>\n",
       "    </tr>\n",
       "  </tbody>\n",
       "</table>\n",
       "</div>"
      ],
      "text/plain": [
       "                  Algorithm                     Precision  \\\n",
       "Count Vecotrizer        SVM   Precision:0.519774011299435   \n",
       "Tf-idf Vectorizer       SVM  Precision:0.5310734463276836   \n",
       "\n",
       "                                      Recall            F1-score  Accuracy  \n",
       "Count Vecotrizer   Recall:0.8761904761904762   0.652482269503546  0.963209  \n",
       "Tf-idf Vectorizer  Recall:0.9038461538461539  0.6690391459074733  0.965086  "
      ]
     },
     "execution_count": 36,
     "metadata": {},
     "output_type": "execute_result"
    }
   ],
   "source": [
    "df_svm = find_metrics(preds1,preds2,\"SVM\")\n",
    "df_svm"
   ]
  },
  {
   "cell_type": "markdown",
   "id": "0914c2cf",
   "metadata": {},
   "source": [
    "### 3. Decision Trees"
   ]
  },
  {
   "cell_type": "code",
   "execution_count": 37,
   "id": "09b21a1b",
   "metadata": {},
   "outputs": [],
   "source": [
    "from sklearn import tree"
   ]
  },
  {
   "cell_type": "code",
   "execution_count": 38,
   "id": "18c6ab31",
   "metadata": {},
   "outputs": [],
   "source": [
    "clf_count = tree.DecisionTreeClassifier(class_weight={0:1,1:7}).fit(X_count_train,y_train)\n",
    "clf_tfidf = tree.DecisionTreeClassifier(class_weight={0:1,1:7}).fit(X_tfidf_train,y_train)\n"
   ]
  },
  {
   "cell_type": "code",
   "execution_count": 39,
   "id": "4d457668",
   "metadata": {},
   "outputs": [
    {
     "data": {
      "text/plain": [
       "0    7264\n",
       "1     727\n",
       "dtype: int64"
      ]
     },
     "execution_count": 39,
     "metadata": {},
     "output_type": "execute_result"
    }
   ],
   "source": [
    "ans = pd.Series(clf_count.predict(X_count_test))\n",
    "ans.value_counts()"
   ]
  },
  {
   "cell_type": "code",
   "execution_count": 40,
   "id": "752c1171",
   "metadata": {},
   "outputs": [
    {
     "data": {
      "text/plain": [
       "(   C                    Precision                     Recall  \\\n",
       " 0  1  Precision:0.623352165725047  Recall:0.6727642276422764   \n",
       " \n",
       "              F1-score  \n",
       " 0  0.6471163245356794  ,\n",
       "    C                     Precision                     Recall  \\\n",
       " 0  1  Precision:0.6120527306967984  Recall:0.6109022556390977   \n",
       " \n",
       "              F1-score  \n",
       " 0  0.6114769520225776  )"
      ]
     },
     "execution_count": 40,
     "metadata": {},
     "output_type": "execute_result"
    }
   ],
   "source": [
    "def analyze(params):\n",
    "    prec=[]\n",
    "    recall = []\n",
    "    param = []\n",
    "    f1 = []\n",
    "    for i in params:\n",
    "        clf = tree.DecisionTreeClassifier(class_weight={0:1,1:i}).fit(X_count_train,y_train)\n",
    "        preds = clf.predict(X_count_test)\n",
    "        df = cm(y_test,preds)\n",
    "        prec.append(str(df['0'].iloc[2]))\n",
    "        recall.append(df['1'].iloc[2])\n",
    "        mat = confusion_matrix(y_test,preds)\n",
    "        prec1 = mat[1][1]/(mat[1][1]+mat[1][0])\n",
    "        recall1 = mat[1][1]/(mat[1][1]+mat[0][1])\n",
    "        f = (2*prec1*recall1)/(prec1+recall1)\n",
    "        f1.append(str(f))\n",
    "        param.append(i)\n",
    "    df1 = pd.DataFrame({'C':param,'Precision':prec,'Recall':recall,'F1-score':f1})\n",
    "    prec=[]\n",
    "    recall = []\n",
    "    param = []\n",
    "    f1 = []\n",
    "    for i in params:\n",
    "        clf = tree.DecisionTreeClassifier(class_weight={0:1,1:i}).fit(X_tfidf_train,y_train)\n",
    "        preds = clf.predict(X_tfidf_test)\n",
    "        df = cm(y_test,preds)\n",
    "        prec.append(str(df['0'].iloc[2]))\n",
    "        recall.append(df['1'].iloc[2])\n",
    "        mat = confusion_matrix(y_test,preds)\n",
    "        prec1 = mat[1][1]/(mat[1][1]+mat[1][0])\n",
    "        recall1 = mat[1][1]/(mat[1][1]+mat[0][1])\n",
    "        f = (2*prec1*recall1)/(prec1+recall1)\n",
    "        f1.append(str(f))\n",
    "        param.append(i)   \n",
    "    df2 = pd.DataFrame({'C':param,'Precision':prec,'Recall':recall,'F1-score':f1})\n",
    "    return df1,df2\n",
    "df1,df2 = analyze([1])\n",
    "df1,df2"
   ]
  },
  {
   "cell_type": "code",
   "execution_count": 41,
   "id": "520a4835",
   "metadata": {},
   "outputs": [],
   "source": [
    "#class_weight={0:1,1:1},class_weight={0:1,1:1}"
   ]
  },
  {
   "cell_type": "code",
   "execution_count": 42,
   "id": "2188c763",
   "metadata": {},
   "outputs": [],
   "source": [
    "clf1 = tree.DecisionTreeClassifier(class_weight={0:1,1:1}).fit(X_count_train,y_train)\n",
    "clf2 = tree.DecisionTreeClassifier(class_weight={0:1,1:1}).fit(X_tfidf_train,y_train)"
   ]
  },
  {
   "cell_type": "code",
   "execution_count": 43,
   "id": "44320ddd",
   "metadata": {},
   "outputs": [],
   "source": [
    "preds1 = clf1.predict(X_count_test)\n",
    "preds2 = clf2.predict(X_tfidf_test)"
   ]
  },
  {
   "cell_type": "code",
   "execution_count": 44,
   "id": "f2956697",
   "metadata": {},
   "outputs": [
    {
     "data": {
      "text/html": [
       "<div>\n",
       "<style scoped>\n",
       "    .dataframe tbody tr th:only-of-type {\n",
       "        vertical-align: middle;\n",
       "    }\n",
       "\n",
       "    .dataframe tbody tr th {\n",
       "        vertical-align: top;\n",
       "    }\n",
       "\n",
       "    .dataframe thead th {\n",
       "        text-align: right;\n",
       "    }\n",
       "</style>\n",
       "<table border=\"1\" class=\"dataframe\">\n",
       "  <thead>\n",
       "    <tr style=\"text-align: right;\">\n",
       "      <th></th>\n",
       "      <th>Algorithm</th>\n",
       "      <th>Precision</th>\n",
       "      <th>Recall</th>\n",
       "      <th>F1-score</th>\n",
       "      <th>Accuracy</th>\n",
       "    </tr>\n",
       "  </thead>\n",
       "  <tbody>\n",
       "    <tr>\n",
       "      <th>Count Vecotrizer</th>\n",
       "      <td>Decision Tree</td>\n",
       "      <td>Precision:0.6101694915254238</td>\n",
       "      <td>Recall:0.6585365853658537</td>\n",
       "      <td>0.6334310850439884</td>\n",
       "      <td>0.953072</td>\n",
       "    </tr>\n",
       "    <tr>\n",
       "      <th>Tf-idf Vectorizer</th>\n",
       "      <td>Decision Tree</td>\n",
       "      <td>Precision:0.6045197740112994</td>\n",
       "      <td>Recall:0.6022514071294559</td>\n",
       "      <td>0.6033834586466166</td>\n",
       "      <td>0.947191</td>\n",
       "    </tr>\n",
       "  </tbody>\n",
       "</table>\n",
       "</div>"
      ],
      "text/plain": [
       "                       Algorithm                     Precision  \\\n",
       "Count Vecotrizer   Decision Tree  Precision:0.6101694915254238   \n",
       "Tf-idf Vectorizer  Decision Tree  Precision:0.6045197740112994   \n",
       "\n",
       "                                      Recall            F1-score  Accuracy  \n",
       "Count Vecotrizer   Recall:0.6585365853658537  0.6334310850439884  0.953072  \n",
       "Tf-idf Vectorizer  Recall:0.6022514071294559  0.6033834586466166  0.947191  "
      ]
     },
     "execution_count": 44,
     "metadata": {},
     "output_type": "execute_result"
    }
   ],
   "source": [
    "df_tree = find_metrics(preds1,preds2,'Decision Tree')\n",
    "df_tree"
   ]
  },
  {
   "cell_type": "markdown",
   "id": "f21abb17",
   "metadata": {},
   "source": [
    "### 4. LinearSVC"
   ]
  },
  {
   "cell_type": "code",
   "execution_count": 45,
   "id": "f7cbe874",
   "metadata": {},
   "outputs": [],
   "source": [
    "from sklearn.svm import LinearSVC"
   ]
  },
  {
   "cell_type": "code",
   "execution_count": 46,
   "id": "b931d0dc",
   "metadata": {},
   "outputs": [],
   "source": [
    "clf1 = LinearSVC(C=10,max_iter=2000).fit(X_count_train,y_train)\n",
    "clf2 = LinearSVC(C=10,max_iter=2000).fit(X_tfidf_train,y_train)\n",
    "pred1 = clf1.predict(X_count_test)\n",
    "pred2 = clf2.predict(X_tfidf_test)"
   ]
  },
  {
   "cell_type": "code",
   "execution_count": 47,
   "id": "03543d77",
   "metadata": {},
   "outputs": [
    {
     "data": {
      "text/html": [
       "<div>\n",
       "<style scoped>\n",
       "    .dataframe tbody tr th:only-of-type {\n",
       "        vertical-align: middle;\n",
       "    }\n",
       "\n",
       "    .dataframe tbody tr th {\n",
       "        vertical-align: top;\n",
       "    }\n",
       "\n",
       "    .dataframe thead th {\n",
       "        text-align: right;\n",
       "    }\n",
       "</style>\n",
       "<table border=\"1\" class=\"dataframe\">\n",
       "  <thead>\n",
       "    <tr style=\"text-align: right;\">\n",
       "      <th></th>\n",
       "      <th>Algorithm</th>\n",
       "      <th>Precision</th>\n",
       "      <th>Recall</th>\n",
       "      <th>F1-score</th>\n",
       "      <th>Accuracy</th>\n",
       "    </tr>\n",
       "  </thead>\n",
       "  <tbody>\n",
       "    <tr>\n",
       "      <th>Count Vecotrizer</th>\n",
       "      <td>Linear SVC</td>\n",
       "      <td>Precision:0.6365348399246704</td>\n",
       "      <td>Recall:0.6525096525096525</td>\n",
       "      <td>0.6444232602478551</td>\n",
       "      <td>0.953322</td>\n",
       "    </tr>\n",
       "    <tr>\n",
       "      <th>Tf-idf Vectorizer</th>\n",
       "      <td>Linear SVC</td>\n",
       "      <td>Precision:0.64030131826742</td>\n",
       "      <td>Recall:0.721868365180467</td>\n",
       "      <td>0.6786427145708583</td>\n",
       "      <td>0.959705</td>\n",
       "    </tr>\n",
       "  </tbody>\n",
       "</table>\n",
       "</div>"
      ],
      "text/plain": [
       "                    Algorithm                     Precision  \\\n",
       "Count Vecotrizer   Linear SVC  Precision:0.6365348399246704   \n",
       "Tf-idf Vectorizer  Linear SVC    Precision:0.64030131826742   \n",
       "\n",
       "                                      Recall            F1-score  Accuracy  \n",
       "Count Vecotrizer   Recall:0.6525096525096525  0.6444232602478551  0.953322  \n",
       "Tf-idf Vectorizer   Recall:0.721868365180467  0.6786427145708583  0.959705  "
      ]
     },
     "execution_count": 47,
     "metadata": {},
     "output_type": "execute_result"
    }
   ],
   "source": [
    "df_linearsvc = find_metrics(pred1,pred2,'Linear SVC')\n",
    "df_linearsvc"
   ]
  },
  {
   "cell_type": "code",
   "execution_count": 48,
   "id": "7ccb9f84",
   "metadata": {},
   "outputs": [
    {
     "data": {
      "text/html": [
       "<div>\n",
       "<style scoped>\n",
       "    .dataframe tbody tr th:only-of-type {\n",
       "        vertical-align: middle;\n",
       "    }\n",
       "\n",
       "    .dataframe tbody tr th {\n",
       "        vertical-align: top;\n",
       "    }\n",
       "\n",
       "    .dataframe thead th {\n",
       "        text-align: right;\n",
       "    }\n",
       "</style>\n",
       "<table border=\"1\" class=\"dataframe\">\n",
       "  <thead>\n",
       "    <tr style=\"text-align: right;\">\n",
       "      <th></th>\n",
       "      <th>Algorithm</th>\n",
       "      <th>Precision</th>\n",
       "      <th>Recall</th>\n",
       "      <th>F1-score</th>\n",
       "    </tr>\n",
       "  </thead>\n",
       "  <tbody>\n",
       "    <tr>\n",
       "      <th>0</th>\n",
       "      <td>LinearSVC</td>\n",
       "      <td>Precision:0.64030131826742</td>\n",
       "      <td>Recall:0.721868365180467</td>\n",
       "      <td>0.6786427145708583</td>\n",
       "    </tr>\n",
       "  </tbody>\n",
       "</table>\n",
       "</div>"
      ],
      "text/plain": [
       "   Algorithm                   Precision                    Recall  \\\n",
       "0  LinearSVC  Precision:0.64030131826742  Recall:0.721868365180467   \n",
       "\n",
       "             F1-score  \n",
       "0  0.6786427145708583  "
      ]
     },
     "execution_count": 48,
     "metadata": {},
     "output_type": "execute_result"
    }
   ],
   "source": [
    "prec=[]\n",
    "recall = []\n",
    "param = []\n",
    "\n",
    "\n",
    "f1 = []\n",
    "df = cm(y_test,pred2)\n",
    "prec.append(str(df['0'].iloc[2]))\n",
    "recall.append(df['1'].iloc[2])\n",
    "mat = confusion_matrix(y_test,pred2)\n",
    "prec1 = mat[1][1]/(mat[1][1]+mat[1][0])\n",
    "recall1 = mat[1][1]/(mat[1][1]+mat[0][1])\n",
    "f = (2*prec1*recall1)/(prec1+recall1)\n",
    "f1.append(str(f))\n",
    "param.append(i)   \n",
    "df2 = pd.DataFrame({'Algorithm':'LinearSVC','Precision':prec,'Recall':recall,'F1-score':f1})\n",
    "df2"
   ]
  },
  {
   "cell_type": "markdown",
   "id": "2064cd11",
   "metadata": {},
   "source": [
    "### 5. Naive Bayes Classifier"
   ]
  },
  {
   "cell_type": "code",
   "execution_count": 49,
   "id": "8788d618",
   "metadata": {},
   "outputs": [],
   "source": [
    "from sklearn.naive_bayes import MultinomialNB"
   ]
  },
  {
   "cell_type": "code",
   "execution_count": 50,
   "id": "a48889af",
   "metadata": {},
   "outputs": [],
   "source": [
    "np.random.seed(10)\n",
    "\n",
    "remove_n = 10000\n",
    "X_train_nb_1 = X_train.copy()\n",
    "X_train_nb_2 = X_train.copy()\n",
    "\n",
    "drop_indices_1 = np.random.choice(X_train_nb_1.index, remove_n, replace=False)\n",
    "drop_indices_2 = np.random.choice(X_train_nb_2.index, remove_n, replace=False)\n",
    "X_train_nb_1 = X_train_nb_1.drop(drop_indices_1)\n",
    "X_train_nb_2 = X_train_nb_2.drop(drop_indices_2)\n",
    "y_train_nb_1 = y_train.copy()\n",
    "y_train_nb_2 = y_train.copy()\n",
    "y_train_nb_1 = y_train_nb_1.drop(drop_indices_1)\n",
    "y_train_nb_2 = y_train_nb_2.drop(drop_indices_2)\n",
    "\n",
    "\n",
    "count_vect_train = CountVectorizer().fit(X_train_nb_1['modified_tweet'])\n",
    "tfidf_vect_train = TfidfVectorizer().fit(X_train_nb_2['modified_tweet'])\n",
    "X_count_train_nb_1 = count_vect_train.transform(X_train_nb_1['modified_tweet'])\n",
    "X_tfidf_train_nb_2 = tfidf_vect_train.transform(X_train_nb_2['modified_tweet'])\n",
    "\n",
    "X_count_train_nb_1 = X_count_train_nb_1.toarray()\n",
    "X_tfidf_train_nb_2 = X_tfidf_train_nb_2.toarray()\n"
   ]
  },
  {
   "cell_type": "code",
   "execution_count": 51,
   "id": "4319ccba",
   "metadata": {},
   "outputs": [],
   "source": [
    "np.random.seed(10)\n",
    "\n",
    "remove_n = 5000\n",
    "X_test_nb_1 = X_test.copy()\n",
    "X_test_nb_2 = X_test.copy()\n",
    "\n",
    "drop_indices_1 = np.random.choice(X_test_nb_1.index, remove_n, replace=False)\n",
    "drop_indices_2 = np.random.choice(X_test_nb_2.index, remove_n, replace=False)\n",
    "X_test_nb_1 = X_test_nb_1.drop(drop_indices_1)\n",
    "X_test_nb_2 = X_test_nb_2.drop(drop_indices_2)\n",
    "y_test_nb_1 = y_test.copy()\n",
    "y_test_nb_2 = y_test.copy()\n",
    "y_test_nb_1 = y_test_nb_1.drop(drop_indices_1)\n",
    "y_test_nb_2 = y_test_nb_2.drop(drop_indices_2)\n",
    "\n",
    "\n",
    "count_vect_test = CountVectorizer().fit(X_train_nb_1['modified_tweet'])\n",
    "tfidf_vect_test = TfidfVectorizer().fit(X_train_nb_2['modified_tweet'])\n",
    "X_test_nb_1 = count_vect_test.transform(X_test_nb_1['modified_tweet'])\n",
    "X_test_nb_2 = tfidf_vect_test.transform(X_test_nb_2['modified_tweet'])\n",
    "\n",
    "X_test_nb_1 = X_test_nb_1.toarray()\n",
    "X_test_nb_2 = X_test_nb_2.toarray()\n",
    "\n"
   ]
  },
  {
   "cell_type": "code",
   "execution_count": 52,
   "id": "168fe5ac",
   "metadata": {
    "scrolled": true
   },
   "outputs": [],
   "source": [
    "clf1 = MultinomialNB().fit(X_count_train_nb_1,y_train_nb_1)\n",
    "clf2 = MultinomialNB().fit(X_tfidf_train_nb_2,y_train_nb_2)\n",
    "pred1 = clf1.predict(X_test_nb_1)\n",
    "pred2 = clf2.predict(X_test_nb_2)"
   ]
  },
  {
   "cell_type": "code",
   "execution_count": 53,
   "id": "380d1511",
   "metadata": {},
   "outputs": [],
   "source": [
    "def find_metrics_nb(y_test_nb_1,y_test_nb_2,preds1,preds2,algorithm):\n",
    "    prec=[]\n",
    "    recall = []\n",
    "    param = []\n",
    "    f1 = []\n",
    "    acc = []\n",
    "    df = cm(y_test_nb_1,preds1)\n",
    "    prec.append(str(df['0'].iloc[2]))\n",
    "    recall.append(df['1'].iloc[2])\n",
    "    mat = confusion_matrix(y_test_nb_1,preds1)\n",
    "    prec1 = mat[1][1]/(mat[1][1]+mat[1][0])\n",
    "    recall1 = mat[1][1]/(mat[1][1]+mat[0][1])\n",
    "    f = (2*prec1*recall1)/(prec1+recall1)\n",
    "    f1.append(str(f))  \n",
    "    \n",
    "    df = cm(y_test_nb_2,preds2)\n",
    "    prec.append(str(df['0'].iloc[2]))\n",
    "    recall.append(df['1'].iloc[2])\n",
    "    mat = confusion_matrix(y_test_nb_2,preds2)\n",
    "    prec1 = mat[1][1]/(mat[1][1]+mat[1][0])\n",
    "    recall1 = mat[1][1]/(mat[1][1]+mat[0][1])\n",
    "    f = (2*prec1*recall1)/(prec1+recall1)\n",
    "    f1.append(str(f))  \n",
    "    correct_preds_1 = 0\n",
    "    correct_preds_2 = 0\n",
    "    for i in range(len(preds1)):\n",
    "        if preds1[i] == list(y_test)[i]:\n",
    "            correct_preds_1+=1\n",
    "    for j in range(len(preds2)):\n",
    "        if preds2[j] == list(y_test)[j]:\n",
    "            correct_preds_2+=1\n",
    "    acc1 = correct_preds_1/len(preds1)\n",
    "    acc2 = correct_preds_2/len(preds2)\n",
    "    acc.append(acc1)\n",
    "    acc.append(acc2)\n",
    "    df2 = pd.DataFrame({'Algorithm':algorithm,'Precision':prec,'Recall':recall,'F1-score':f1,'Accuracy':acc})\n",
    "    df2.index = ['Count Vecotrizer','Tf-idf Vectorizer']\n",
    "    return df2\n",
    "    "
   ]
  },
  {
   "cell_type": "code",
   "execution_count": 54,
   "id": "514000d5",
   "metadata": {},
   "outputs": [
    {
     "data": {
      "text/html": [
       "<div>\n",
       "<style scoped>\n",
       "    .dataframe tbody tr th:only-of-type {\n",
       "        vertical-align: middle;\n",
       "    }\n",
       "\n",
       "    .dataframe tbody tr th {\n",
       "        vertical-align: top;\n",
       "    }\n",
       "\n",
       "    .dataframe thead th {\n",
       "        text-align: right;\n",
       "    }\n",
       "</style>\n",
       "<table border=\"1\" class=\"dataframe\">\n",
       "  <thead>\n",
       "    <tr style=\"text-align: right;\">\n",
       "      <th></th>\n",
       "      <th>Algorithm</th>\n",
       "      <th>Precision</th>\n",
       "      <th>Recall</th>\n",
       "      <th>F1-score</th>\n",
       "      <th>Accuracy</th>\n",
       "    </tr>\n",
       "  </thead>\n",
       "  <tbody>\n",
       "    <tr>\n",
       "      <th>Count Vecotrizer</th>\n",
       "      <td>Naive Bayes</td>\n",
       "      <td>Precision:0.45077720207253885</td>\n",
       "      <td>Recall:0.925531914893617</td>\n",
       "      <td>0.6062717770034842</td>\n",
       "      <td>0.914744</td>\n",
       "    </tr>\n",
       "    <tr>\n",
       "      <th>Tf-idf Vectorizer</th>\n",
       "      <td>Naive Bayes</td>\n",
       "      <td>Precision:0.0947867298578199</td>\n",
       "      <td>Recall:1.0</td>\n",
       "      <td>0.17316017316017313</td>\n",
       "      <td>0.936142</td>\n",
       "    </tr>\n",
       "  </tbody>\n",
       "</table>\n",
       "</div>"
      ],
      "text/plain": [
       "                     Algorithm                      Precision  \\\n",
       "Count Vecotrizer   Naive Bayes  Precision:0.45077720207253885   \n",
       "Tf-idf Vectorizer  Naive Bayes   Precision:0.0947867298578199   \n",
       "\n",
       "                                     Recall             F1-score  Accuracy  \n",
       "Count Vecotrizer   Recall:0.925531914893617   0.6062717770034842  0.914744  \n",
       "Tf-idf Vectorizer                Recall:1.0  0.17316017316017313  0.936142  "
      ]
     },
     "execution_count": 54,
     "metadata": {},
     "output_type": "execute_result"
    }
   ],
   "source": [
    "df_nb = find_metrics_nb(y_test_nb_1,y_test_nb_2,pred1,pred2,'Naive Bayes')\n",
    "df_nb"
   ]
  },
  {
   "cell_type": "markdown",
   "id": "cc5c31b4",
   "metadata": {},
   "source": [
    "### XG Boost"
   ]
  },
  {
   "cell_type": "code",
   "execution_count": 55,
   "id": "83bd9077",
   "metadata": {},
   "outputs": [],
   "source": [
    "#!pip install xgboost\n",
    "from xgboost import XGBClassifier"
   ]
  },
  {
   "cell_type": "code",
   "execution_count": 56,
   "id": "9eb745de",
   "metadata": {
    "scrolled": true
   },
   "outputs": [
    {
     "name": "stderr",
     "output_type": "stream",
     "text": [
      "C:\\Users\\HP\\anaconda3\\lib\\site-packages\\xgboost\\sklearn.py:1224: UserWarning: The use of label encoder in XGBClassifier is deprecated and will be removed in a future release. To remove this warning, do the following: 1) Pass option use_label_encoder=False when constructing XGBClassifier object; and 2) Encode your labels (y) as integers starting with 0, i.e. 0, 1, 2, ..., [num_class - 1].\n",
      "  warnings.warn(label_encoder_deprecation_msg, UserWarning)\n"
     ]
    },
    {
     "name": "stdout",
     "output_type": "stream",
     "text": [
      "[08:32:06] WARNING: C:/Users/Administrator/workspace/xgboost-win64_release_1.5.0/src/learner.cc:576: \n",
      "Parameters: { \"sub_samples\" } might not be used.\n",
      "\n",
      "  This could be a false alarm, with some parameters getting used by language bindings but\n",
      "  then being mistakenly passed down to XGBoost core, or some parameter actually being used\n",
      "  but getting flagged wrongly here. Please open an issue if you find any such cases.\n",
      "\n",
      "\n",
      "[08:32:08] WARNING: C:/Users/Administrator/workspace/xgboost-win64_release_1.5.0/src/learner.cc:576: \n",
      "Parameters: { \"sub_samples\" } might not be used.\n",
      "\n",
      "  This could be a false alarm, with some parameters getting used by language bindings but\n",
      "  then being mistakenly passed down to XGBoost core, or some parameter actually being used\n",
      "  but getting flagged wrongly here. Please open an issue if you find any such cases.\n",
      "\n",
      "\n"
     ]
    }
   ],
   "source": [
    "clf1 = XGBClassifier(learning_rate=0.8,max_depth=15,sub_samples=4,objective='reg:logistic').fit(X_count_train, y_train)\n",
    "clf2 = XGBClassifier(learning_rate=0.8,max_depth=20,sub_samples=4,objective='reg:logistic').fit(X_tfidf_train, y_train)\n"
   ]
  },
  {
   "cell_type": "code",
   "execution_count": 57,
   "id": "fc4627e5",
   "metadata": {},
   "outputs": [],
   "source": [
    "preds1 = clf1.predict(X_count_test)\n",
    "preds2 = clf2.predict(X_tfidf_test)\n"
   ]
  },
  {
   "cell_type": "code",
   "execution_count": 58,
   "id": "47eb5690",
   "metadata": {},
   "outputs": [
    {
     "data": {
      "text/html": [
       "<div>\n",
       "<style scoped>\n",
       "    .dataframe tbody tr th:only-of-type {\n",
       "        vertical-align: middle;\n",
       "    }\n",
       "\n",
       "    .dataframe tbody tr th {\n",
       "        vertical-align: top;\n",
       "    }\n",
       "\n",
       "    .dataframe thead th {\n",
       "        text-align: right;\n",
       "    }\n",
       "</style>\n",
       "<table border=\"1\" class=\"dataframe\">\n",
       "  <thead>\n",
       "    <tr style=\"text-align: right;\">\n",
       "      <th></th>\n",
       "      <th>Algorithm</th>\n",
       "      <th>Precision</th>\n",
       "      <th>Recall</th>\n",
       "      <th>F1-score</th>\n",
       "      <th>Accuracy</th>\n",
       "    </tr>\n",
       "  </thead>\n",
       "  <tbody>\n",
       "    <tr>\n",
       "      <th>Count Vecotrizer</th>\n",
       "      <td>XG Boost</td>\n",
       "      <td>Precision:0.5348399246704332</td>\n",
       "      <td>Recall:0.7759562841530054</td>\n",
       "      <td>0.633221850613155</td>\n",
       "      <td>0.958829</td>\n",
       "    </tr>\n",
       "    <tr>\n",
       "      <th>Tf-idf Vectorizer</th>\n",
       "      <td>XG Boost</td>\n",
       "      <td>Precision:0.5160075329566854</td>\n",
       "      <td>Recall:0.7527472527472527</td>\n",
       "      <td>0.612290502793296</td>\n",
       "      <td>0.956576</td>\n",
       "    </tr>\n",
       "  </tbody>\n",
       "</table>\n",
       "</div>"
      ],
      "text/plain": [
       "                  Algorithm                     Precision  \\\n",
       "Count Vecotrizer   XG Boost  Precision:0.5348399246704332   \n",
       "Tf-idf Vectorizer  XG Boost  Precision:0.5160075329566854   \n",
       "\n",
       "                                      Recall           F1-score  Accuracy  \n",
       "Count Vecotrizer   Recall:0.7759562841530054  0.633221850613155  0.958829  \n",
       "Tf-idf Vectorizer  Recall:0.7527472527472527  0.612290502793296  0.956576  "
      ]
     },
     "execution_count": 58,
     "metadata": {},
     "output_type": "execute_result"
    }
   ],
   "source": [
    "df_xg = find_metrics(preds1,preds2,'XG Boost')\n",
    "df_xg"
   ]
  },
  {
   "cell_type": "markdown",
   "id": "71245a1c",
   "metadata": {},
   "source": [
    "### KNN"
   ]
  },
  {
   "cell_type": "code",
   "execution_count": 59,
   "id": "4ad30ed1",
   "metadata": {},
   "outputs": [],
   "source": [
    "from sklearn.neighbors import KNeighborsClassifier"
   ]
  },
  {
   "cell_type": "code",
   "execution_count": 60,
   "id": "e4c4972a",
   "metadata": {},
   "outputs": [],
   "source": [
    "clf1 = KNeighborsClassifier(n_neighbors=1).fit(X_count_train, y_train)\n",
    "clf2 = KNeighborsClassifier(n_neighbors=1).fit(X_tfidf_train, y_train)\n"
   ]
  },
  {
   "cell_type": "code",
   "execution_count": 61,
   "id": "a2b636be",
   "metadata": {},
   "outputs": [],
   "source": [
    "pred1 = clf1.predict(X_count_test)\n",
    "pred2 = clf2.predict(X_tfidf_test)"
   ]
  },
  {
   "cell_type": "code",
   "execution_count": 62,
   "id": "4a932b10",
   "metadata": {},
   "outputs": [
    {
     "data": {
      "text/html": [
       "<div>\n",
       "<style scoped>\n",
       "    .dataframe tbody tr th:only-of-type {\n",
       "        vertical-align: middle;\n",
       "    }\n",
       "\n",
       "    .dataframe tbody tr th {\n",
       "        vertical-align: top;\n",
       "    }\n",
       "\n",
       "    .dataframe thead th {\n",
       "        text-align: right;\n",
       "    }\n",
       "</style>\n",
       "<table border=\"1\" class=\"dataframe\">\n",
       "  <thead>\n",
       "    <tr style=\"text-align: right;\">\n",
       "      <th></th>\n",
       "      <th>Algorithm</th>\n",
       "      <th>Precision</th>\n",
       "      <th>Recall</th>\n",
       "      <th>F1-score</th>\n",
       "      <th>Accuracy</th>\n",
       "    </tr>\n",
       "  </thead>\n",
       "  <tbody>\n",
       "    <tr>\n",
       "      <th>Count Vecotrizer</th>\n",
       "      <td>KNN</td>\n",
       "      <td>Precision:0.3653483992467043</td>\n",
       "      <td>Recall:0.7158671586715867</td>\n",
       "      <td>0.4837905236907731</td>\n",
       "      <td>0.948192</td>\n",
       "    </tr>\n",
       "    <tr>\n",
       "      <th>Tf-idf Vectorizer</th>\n",
       "      <td>KNN</td>\n",
       "      <td>Precision:0.3634651600753296</td>\n",
       "      <td>Recall:0.9018691588785047</td>\n",
       "      <td>0.5181208053691276</td>\n",
       "      <td>0.955074</td>\n",
       "    </tr>\n",
       "  </tbody>\n",
       "</table>\n",
       "</div>"
      ],
      "text/plain": [
       "                  Algorithm                     Precision  \\\n",
       "Count Vecotrizer        KNN  Precision:0.3653483992467043   \n",
       "Tf-idf Vectorizer       KNN  Precision:0.3634651600753296   \n",
       "\n",
       "                                      Recall            F1-score  Accuracy  \n",
       "Count Vecotrizer   Recall:0.7158671586715867  0.4837905236907731  0.948192  \n",
       "Tf-idf Vectorizer  Recall:0.9018691588785047  0.5181208053691276  0.955074  "
      ]
     },
     "execution_count": 62,
     "metadata": {},
     "output_type": "execute_result"
    }
   ],
   "source": [
    "df_knn = find_metrics(pred1,pred2,\"KNN\")\n",
    "df_knn"
   ]
  },
  {
   "cell_type": "markdown",
   "id": "77541787",
   "metadata": {},
   "source": [
    "### Ada Boost"
   ]
  },
  {
   "cell_type": "code",
   "execution_count": 63,
   "id": "2f1418da",
   "metadata": {},
   "outputs": [],
   "source": [
    "from sklearn.ensemble import AdaBoostClassifier"
   ]
  },
  {
   "cell_type": "code",
   "execution_count": 64,
   "id": "de95cda8",
   "metadata": {},
   "outputs": [],
   "source": [
    "clf1 = AdaBoostClassifier(n_estimators=60,learning_rate=1).fit(X_count_train,y_train)\n",
    "clf2 = AdaBoostClassifier(n_estimators=60,learning_rate=1).fit(X_tfidf_train,y_train)"
   ]
  },
  {
   "cell_type": "code",
   "execution_count": 65,
   "id": "102dc1b9",
   "metadata": {},
   "outputs": [],
   "source": [
    "pred1 = clf1.predict(X_count_test)\n",
    "pred2 = clf2.predict(X_tfidf_test)"
   ]
  },
  {
   "cell_type": "code",
   "execution_count": 66,
   "id": "6db4cd15",
   "metadata": {},
   "outputs": [
    {
     "data": {
      "text/html": [
       "<div>\n",
       "<style scoped>\n",
       "    .dataframe tbody tr th:only-of-type {\n",
       "        vertical-align: middle;\n",
       "    }\n",
       "\n",
       "    .dataframe tbody tr th {\n",
       "        vertical-align: top;\n",
       "    }\n",
       "\n",
       "    .dataframe thead th {\n",
       "        text-align: right;\n",
       "    }\n",
       "</style>\n",
       "<table border=\"1\" class=\"dataframe\">\n",
       "  <thead>\n",
       "    <tr style=\"text-align: right;\">\n",
       "      <th></th>\n",
       "      <th>Algorithm</th>\n",
       "      <th>Precision</th>\n",
       "      <th>Recall</th>\n",
       "      <th>F1-score</th>\n",
       "      <th>Accuracy</th>\n",
       "    </tr>\n",
       "  </thead>\n",
       "  <tbody>\n",
       "    <tr>\n",
       "      <th>Count Vecotrizer</th>\n",
       "      <td>Ada Boost</td>\n",
       "      <td>Precision:0.3898305084745763</td>\n",
       "      <td>Recall:0.7961538461538461</td>\n",
       "      <td>0.5233881163084704</td>\n",
       "      <td>0.952822</td>\n",
       "    </tr>\n",
       "    <tr>\n",
       "      <th>Tf-idf Vectorizer</th>\n",
       "      <td>Ada Boost</td>\n",
       "      <td>Precision:0.3785310734463277</td>\n",
       "      <td>Recall:0.7730769230769231</td>\n",
       "      <td>0.5082174462705437</td>\n",
       "      <td>0.951320</td>\n",
       "    </tr>\n",
       "  </tbody>\n",
       "</table>\n",
       "</div>"
      ],
      "text/plain": [
       "                   Algorithm                     Precision  \\\n",
       "Count Vecotrizer   Ada Boost  Precision:0.3898305084745763   \n",
       "Tf-idf Vectorizer  Ada Boost  Precision:0.3785310734463277   \n",
       "\n",
       "                                      Recall            F1-score  Accuracy  \n",
       "Count Vecotrizer   Recall:0.7961538461538461  0.5233881163084704  0.952822  \n",
       "Tf-idf Vectorizer  Recall:0.7730769230769231  0.5082174462705437  0.951320  "
      ]
     },
     "execution_count": 66,
     "metadata": {},
     "output_type": "execute_result"
    }
   ],
   "source": [
    "df_ada = find_metrics(pred1,pred2,\"Ada Boost\")\n",
    "df_ada"
   ]
  },
  {
   "cell_type": "markdown",
   "id": "76b6eeb7",
   "metadata": {},
   "source": [
    "### MLP Classifier"
   ]
  },
  {
   "cell_type": "code",
   "execution_count": 67,
   "id": "13a58645",
   "metadata": {},
   "outputs": [],
   "source": [
    "from sklearn.neural_network import MLPClassifier"
   ]
  },
  {
   "cell_type": "code",
   "execution_count": 68,
   "id": "8f2735f6",
   "metadata": {},
   "outputs": [],
   "source": [
    "clf1 = MLPClassifier().fit(X_count_train,y_train)\n"
   ]
  },
  {
   "cell_type": "code",
   "execution_count": 69,
   "id": "bf1aa25d",
   "metadata": {},
   "outputs": [],
   "source": [
    "clf2 = MLPClassifier().fit(X_tfidf_train,y_train)"
   ]
  },
  {
   "cell_type": "code",
   "execution_count": 70,
   "id": "f27e2316",
   "metadata": {},
   "outputs": [],
   "source": [
    "pred1 = clf1.predict(X_count_test)\n",
    "pred2 = clf2.predict(X_tfidf_test)"
   ]
  },
  {
   "cell_type": "code",
   "execution_count": 71,
   "id": "2c664c91",
   "metadata": {},
   "outputs": [
    {
     "data": {
      "text/html": [
       "<div>\n",
       "<style scoped>\n",
       "    .dataframe tbody tr th:only-of-type {\n",
       "        vertical-align: middle;\n",
       "    }\n",
       "\n",
       "    .dataframe tbody tr th {\n",
       "        vertical-align: top;\n",
       "    }\n",
       "\n",
       "    .dataframe thead th {\n",
       "        text-align: right;\n",
       "    }\n",
       "</style>\n",
       "<table border=\"1\" class=\"dataframe\">\n",
       "  <thead>\n",
       "    <tr style=\"text-align: right;\">\n",
       "      <th></th>\n",
       "      <th>Algorithm</th>\n",
       "      <th>Precision</th>\n",
       "      <th>Recall</th>\n",
       "      <th>F1-score</th>\n",
       "      <th>Accuracy</th>\n",
       "    </tr>\n",
       "  </thead>\n",
       "  <tbody>\n",
       "    <tr>\n",
       "      <th>Count Vecotrizer</th>\n",
       "      <td>MLP Classifier</td>\n",
       "      <td>Precision:0.6139359698681732</td>\n",
       "      <td>Recall:0.6749482401656315</td>\n",
       "      <td>0.6429980276134122</td>\n",
       "      <td>0.954699</td>\n",
       "    </tr>\n",
       "    <tr>\n",
       "      <th>Tf-idf Vectorizer</th>\n",
       "      <td>MLP Classifier</td>\n",
       "      <td>Precision:0.6365348399246704</td>\n",
       "      <td>Recall:0.6733067729083665</td>\n",
       "      <td>0.654404646660213</td>\n",
       "      <td>0.955325</td>\n",
       "    </tr>\n",
       "  </tbody>\n",
       "</table>\n",
       "</div>"
      ],
      "text/plain": [
       "                        Algorithm                     Precision  \\\n",
       "Count Vecotrizer   MLP Classifier  Precision:0.6139359698681732   \n",
       "Tf-idf Vectorizer  MLP Classifier  Precision:0.6365348399246704   \n",
       "\n",
       "                                      Recall            F1-score  Accuracy  \n",
       "Count Vecotrizer   Recall:0.6749482401656315  0.6429980276134122  0.954699  \n",
       "Tf-idf Vectorizer  Recall:0.6733067729083665   0.654404646660213  0.955325  "
      ]
     },
     "execution_count": 71,
     "metadata": {},
     "output_type": "execute_result"
    }
   ],
   "source": [
    "df_mlp = find_metrics(pred1,pred2,\"MLP Classifier\")\n",
    "df_mlp"
   ]
  },
  {
   "cell_type": "code",
   "execution_count": 72,
   "id": "4d3468e3",
   "metadata": {},
   "outputs": [
    {
     "data": {
      "text/html": [
       "<div>\n",
       "<style scoped>\n",
       "    .dataframe tbody tr th:only-of-type {\n",
       "        vertical-align: middle;\n",
       "    }\n",
       "\n",
       "    .dataframe tbody tr th {\n",
       "        vertical-align: top;\n",
       "    }\n",
       "\n",
       "    .dataframe thead th {\n",
       "        text-align: right;\n",
       "    }\n",
       "</style>\n",
       "<table border=\"1\" class=\"dataframe\">\n",
       "  <thead>\n",
       "    <tr style=\"text-align: right;\">\n",
       "      <th></th>\n",
       "      <th>Algorithm</th>\n",
       "      <th>Precision</th>\n",
       "      <th>Recall</th>\n",
       "      <th>F1-score</th>\n",
       "      <th>Accuracy</th>\n",
       "    </tr>\n",
       "  </thead>\n",
       "  <tbody>\n",
       "    <tr>\n",
       "      <th>Count Vecotrizer</th>\n",
       "      <td>Logistic Regression</td>\n",
       "      <td>58.9</td>\n",
       "      <td>83.0</td>\n",
       "      <td>68.9</td>\n",
       "      <td>96.4</td>\n",
       "    </tr>\n",
       "    <tr>\n",
       "      <th>Tf-idf Vectorizer</th>\n",
       "      <td>Logistic Regression</td>\n",
       "      <td>61.9</td>\n",
       "      <td>80.4</td>\n",
       "      <td>70.0</td>\n",
       "      <td>96.4</td>\n",
       "    </tr>\n",
       "    <tr>\n",
       "      <th>Count Vecotrizer</th>\n",
       "      <td>SVM</td>\n",
       "      <td>51.9</td>\n",
       "      <td>87.6</td>\n",
       "      <td>65.2</td>\n",
       "      <td>96.3</td>\n",
       "    </tr>\n",
       "    <tr>\n",
       "      <th>Tf-idf Vectorizer</th>\n",
       "      <td>SVM</td>\n",
       "      <td>53.1</td>\n",
       "      <td>90.3</td>\n",
       "      <td>66.9</td>\n",
       "      <td>96.5</td>\n",
       "    </tr>\n",
       "    <tr>\n",
       "      <th>Count Vecotrizer</th>\n",
       "      <td>Decision Tree</td>\n",
       "      <td>61.0</td>\n",
       "      <td>65.8</td>\n",
       "      <td>63.3</td>\n",
       "      <td>95.3</td>\n",
       "    </tr>\n",
       "    <tr>\n",
       "      <th>Tf-idf Vectorizer</th>\n",
       "      <td>Decision Tree</td>\n",
       "      <td>60.4</td>\n",
       "      <td>60.2</td>\n",
       "      <td>60.3</td>\n",
       "      <td>94.7</td>\n",
       "    </tr>\n",
       "    <tr>\n",
       "      <th>Count Vecotrizer</th>\n",
       "      <td>Linear SVC</td>\n",
       "      <td>63.6</td>\n",
       "      <td>65.2</td>\n",
       "      <td>64.4</td>\n",
       "      <td>95.3</td>\n",
       "    </tr>\n",
       "    <tr>\n",
       "      <th>Tf-idf Vectorizer</th>\n",
       "      <td>Linear SVC</td>\n",
       "      <td>64.0</td>\n",
       "      <td>72.1</td>\n",
       "      <td>67.8</td>\n",
       "      <td>95.9</td>\n",
       "    </tr>\n",
       "    <tr>\n",
       "      <th>Count Vecotrizer</th>\n",
       "      <td>Naive Bayes</td>\n",
       "      <td>45.0</td>\n",
       "      <td>92.5</td>\n",
       "      <td>60.6</td>\n",
       "      <td>91.4</td>\n",
       "    </tr>\n",
       "    <tr>\n",
       "      <th>Tf-idf Vectorizer</th>\n",
       "      <td>Naive Bayes</td>\n",
       "      <td>9.4</td>\n",
       "      <td>100.0</td>\n",
       "      <td>17.3</td>\n",
       "      <td>93.6</td>\n",
       "    </tr>\n",
       "    <tr>\n",
       "      <th>Count Vecotrizer</th>\n",
       "      <td>XG Boost</td>\n",
       "      <td>53.4</td>\n",
       "      <td>77.5</td>\n",
       "      <td>63.3</td>\n",
       "      <td>95.8</td>\n",
       "    </tr>\n",
       "    <tr>\n",
       "      <th>Tf-idf Vectorizer</th>\n",
       "      <td>XG Boost</td>\n",
       "      <td>51.6</td>\n",
       "      <td>75.2</td>\n",
       "      <td>61.2</td>\n",
       "      <td>95.6</td>\n",
       "    </tr>\n",
       "    <tr>\n",
       "      <th>Count Vecotrizer</th>\n",
       "      <td>KNN</td>\n",
       "      <td>36.5</td>\n",
       "      <td>71.5</td>\n",
       "      <td>48.3</td>\n",
       "      <td>94.8</td>\n",
       "    </tr>\n",
       "    <tr>\n",
       "      <th>Tf-idf Vectorizer</th>\n",
       "      <td>KNN</td>\n",
       "      <td>36.3</td>\n",
       "      <td>90.1</td>\n",
       "      <td>51.8</td>\n",
       "      <td>95.5</td>\n",
       "    </tr>\n",
       "    <tr>\n",
       "      <th>Count Vecotrizer</th>\n",
       "      <td>Ada Boost</td>\n",
       "      <td>38.9</td>\n",
       "      <td>79.6</td>\n",
       "      <td>52.3</td>\n",
       "      <td>95.2</td>\n",
       "    </tr>\n",
       "    <tr>\n",
       "      <th>Tf-idf Vectorizer</th>\n",
       "      <td>Ada Boost</td>\n",
       "      <td>37.8</td>\n",
       "      <td>77.3</td>\n",
       "      <td>50.8</td>\n",
       "      <td>95.1</td>\n",
       "    </tr>\n",
       "    <tr>\n",
       "      <th>Count Vecotrizer</th>\n",
       "      <td>MLP Classifier</td>\n",
       "      <td>61.3</td>\n",
       "      <td>67.4</td>\n",
       "      <td>64.2</td>\n",
       "      <td>95.4</td>\n",
       "    </tr>\n",
       "    <tr>\n",
       "      <th>Tf-idf Vectorizer</th>\n",
       "      <td>MLP Classifier</td>\n",
       "      <td>63.6</td>\n",
       "      <td>67.3</td>\n",
       "      <td>65.4</td>\n",
       "      <td>95.5</td>\n",
       "    </tr>\n",
       "  </tbody>\n",
       "</table>\n",
       "</div>"
      ],
      "text/plain": [
       "                             Algorithm  Precision  Recall  F1-score  Accuracy\n",
       "Count Vecotrizer   Logistic Regression       58.9    83.0      68.9      96.4\n",
       "Tf-idf Vectorizer  Logistic Regression       61.9    80.4      70.0      96.4\n",
       "Count Vecotrizer                   SVM       51.9    87.6      65.2      96.3\n",
       "Tf-idf Vectorizer                  SVM       53.1    90.3      66.9      96.5\n",
       "Count Vecotrizer         Decision Tree       61.0    65.8      63.3      95.3\n",
       "Tf-idf Vectorizer        Decision Tree       60.4    60.2      60.3      94.7\n",
       "Count Vecotrizer            Linear SVC       63.6    65.2      64.4      95.3\n",
       "Tf-idf Vectorizer           Linear SVC       64.0    72.1      67.8      95.9\n",
       "Count Vecotrizer           Naive Bayes       45.0    92.5      60.6      91.4\n",
       "Tf-idf Vectorizer          Naive Bayes        9.4   100.0      17.3      93.6\n",
       "Count Vecotrizer              XG Boost       53.4    77.5      63.3      95.8\n",
       "Tf-idf Vectorizer             XG Boost       51.6    75.2      61.2      95.6\n",
       "Count Vecotrizer                   KNN       36.5    71.5      48.3      94.8\n",
       "Tf-idf Vectorizer                  KNN       36.3    90.1      51.8      95.5\n",
       "Count Vecotrizer             Ada Boost       38.9    79.6      52.3      95.2\n",
       "Tf-idf Vectorizer            Ada Boost       37.8    77.3      50.8      95.1\n",
       "Count Vecotrizer        MLP Classifier       61.3    67.4      64.2      95.4\n",
       "Tf-idf Vectorizer       MLP Classifier       63.6    67.3      65.4      95.5"
      ]
     },
     "execution_count": 72,
     "metadata": {},
     "output_type": "execute_result"
    }
   ],
   "source": [
    "df_list = [df_logistic,df_svm,df_tree,df_linearsvc,df_nb,df_xg,df_knn,df_ada,df_mlp]\n",
    "# df_results = df_list[0]\n",
    "# for i in range(1,len(df_list)):\n",
    "#     df_results = pd.merge(df_results,df_list[i],left_index=True, right_index=True)\n",
    "# df_results\n",
    "df_results = pd.concat(df_list)\n",
    "df_results['Precision'] = df_results['Precision'].apply(lambda x:100*float(x[10:15]))\n",
    "df_results['Recall'] = df_results['Recall'].apply(lambda x:100*float(x[7:12]))\n",
    "df_results['F1-score'] = df_results['F1-score'].apply(lambda x:100*float(x[0:5]))\n",
    "df_results['Accuracy'] = df_results['Accuracy'].apply(lambda x:100*float(str(x)[0:5]))\n",
    "\n",
    "df_results"
   ]
  },
  {
   "cell_type": "code",
   "execution_count": null,
   "id": "1c0c0d43",
   "metadata": {},
   "outputs": [],
   "source": []
  }
 ],
 "metadata": {
  "kernelspec": {
   "display_name": "Python 3",
   "language": "python",
   "name": "python3"
  },
  "language_info": {
   "codemirror_mode": {
    "name": "ipython",
    "version": 3
   },
   "file_extension": ".py",
   "mimetype": "text/x-python",
   "name": "python",
   "nbconvert_exporter": "python",
   "pygments_lexer": "ipython3",
   "version": "3.8.8"
  }
 },
 "nbformat": 4,
 "nbformat_minor": 5
}
